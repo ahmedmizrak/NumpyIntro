{
 "cells": [
  {
   "cell_type": "code",
   "execution_count": 156,
   "id": "dfdd7f72-a211-4d0f-8bb1-1a63b53c1431",
   "metadata": {},
   "outputs": [],
   "source": [
    "# Bu dökümantasyon'u kullanmak için Jupyter Notebook kullanmanızı tavsiye ederim. İlk açtığınız zaman ise Kernel-> Restart Kernell and Run All Cells\n",
    "# işlemini uygulamanızı tavsiye ederim."
   ]
  },
  {
   "cell_type": "code",
   "execution_count": 65,
   "id": "277c656c-56e4-4136-8271-6e9d4b5e20eb",
   "metadata": {},
   "outputs": [],
   "source": [
    "#conda install numpy ###normalde jupyter'e numpy bu kodla yüklenir. Ama bende bu kod hata verdiği için aşğaıdakini kullandım."
   ]
  },
  {
   "cell_type": "code",
   "execution_count": 2,
   "id": "929bd542-3303-4be0-96ec-45961652d907",
   "metadata": {},
   "outputs": [
    {
     "name": "stdout",
     "output_type": "stream",
     "text": [
      "Requirement already satisfied: numpy in c:\\users\\ahmed\\anaconda3\\lib\\site-packages (1.26.4)\n",
      "Note: you may need to restart the kernel to use updated packages.\n"
     ]
    }
   ],
   "source": [
    "pip install numpy"
   ]
  },
  {
   "cell_type": "code",
   "execution_count": 4,
   "id": "583cfaab-42fb-418d-855d-eb6288059ba6",
   "metadata": {},
   "outputs": [],
   "source": [
    "import numpy as np #burada numpy'ı import ettik. Kodlarımızda artık \"np\" ile numpy'ı kullanabileceğiz."
   ]
  },
  {
   "cell_type": "code",
   "execution_count": 5,
   "id": "249d3718-d249-4c47-992d-f9e4bdb53dc1",
   "metadata": {},
   "outputs": [],
   "source": [
    "#numpy array"
   ]
  },
  {
   "cell_type": "code",
   "execution_count": 6,
   "id": "d584ca7f-951c-4571-b931-e8bbd1b82630",
   "metadata": {},
   "outputs": [],
   "source": [
    "my_list = [10,20,30,40]"
   ]
  },
  {
   "cell_type": "code",
   "execution_count": 7,
   "id": "98d52ca8-568a-4f74-8d4c-c91382809486",
   "metadata": {},
   "outputs": [
    {
     "data": {
      "text/plain": [
       "list"
      ]
     },
     "execution_count": 7,
     "metadata": {},
     "output_type": "execute_result"
    }
   ],
   "source": [
    "type(my_list)"
   ]
  },
  {
   "cell_type": "code",
   "execution_count": 9,
   "id": "4733afa8-d6fd-439c-8fe3-6b23279c5ec4",
   "metadata": {},
   "outputs": [
    {
     "data": {
      "text/plain": [
       "array([10, 20, 30, 40])"
      ]
     },
     "execution_count": 9,
     "metadata": {},
     "output_type": "execute_result"
    }
   ],
   "source": [
    "np.array(my_list) #bu kod ile \"my_list\"'i çevirebiliyoruz."
   ]
  },
  {
   "cell_type": "code",
   "execution_count": 10,
   "id": "4447f797-3ca1-4f80-a50d-632cf9b7880e",
   "metadata": {},
   "outputs": [],
   "source": [
    "my_numpy_array = np.array(my_list)"
   ]
  },
  {
   "cell_type": "code",
   "execution_count": 11,
   "id": "1231043d-e4d0-4ab1-b791-5e894fed3ed6",
   "metadata": {},
   "outputs": [
    {
     "data": {
      "text/plain": [
       "numpy.ndarray"
      ]
     },
     "execution_count": 11,
     "metadata": {},
     "output_type": "execute_result"
    }
   ],
   "source": [
    "type(my_numpy_array)"
   ]
  },
  {
   "cell_type": "code",
   "execution_count": 12,
   "id": "47478ab1-e9d7-46c4-9eb5-3f460209425a",
   "metadata": {},
   "outputs": [
    {
     "data": {
      "text/plain": [
       "array([10, 20, 30, 40])"
      ]
     },
     "execution_count": 12,
     "metadata": {},
     "output_type": "execute_result"
    }
   ],
   "source": [
    "my_numpy_array"
   ]
  },
  {
   "cell_type": "code",
   "execution_count": 19,
   "id": "d21fc971-7fcc-48d2-abbb-fe197a20d621",
   "metadata": {},
   "outputs": [
    {
     "data": {
      "text/plain": [
       "10"
      ]
     },
     "execution_count": 19,
     "metadata": {},
     "output_type": "execute_result"
    }
   ],
   "source": [
    "my_numpy_array[0] #bu ve alttaki örnekte index mantığı test ediliyor. Listelerde olduğu gibi buradada index ile istediğimiz değerlere ulaşabiliyoruz."
   ]
  },
  {
   "cell_type": "code",
   "execution_count": 15,
   "id": "378e4d29-1c73-43b9-a3b8-c33721b4a582",
   "metadata": {},
   "outputs": [
    {
     "data": {
      "text/plain": [
       "40"
      ]
     },
     "execution_count": 15,
     "metadata": {},
     "output_type": "execute_result"
    }
   ],
   "source": [
    "my_numpy_array[-1]"
   ]
  },
  {
   "cell_type": "code",
   "execution_count": 24,
   "id": "80db6aa6-1f91-459d-b377-6e3aab7b8655",
   "metadata": {},
   "outputs": [],
   "source": [
    "my_numpy_array[0] = 100 #burada 0. indexteki değeri değiştirdik. Numpy içindeki değerlerin değiştirilmesine izin veriyor."
   ]
  },
  {
   "cell_type": "code",
   "execution_count": 22,
   "id": "1858bc9a-efc6-4aba-bd1f-360b70898fc0",
   "metadata": {},
   "outputs": [
    {
     "data": {
      "text/plain": [
       "100"
      ]
     },
     "execution_count": 22,
     "metadata": {},
     "output_type": "execute_result"
    }
   ],
   "source": [
    "my_numpy_array[0]"
   ]
  },
  {
   "cell_type": "code",
   "execution_count": 28,
   "id": "9190f1b8-c8d9-4851-b5e3-06baf0cf5456",
   "metadata": {},
   "outputs": [
    {
     "data": {
      "text/plain": [
       "100"
      ]
     },
     "execution_count": 28,
     "metadata": {},
     "output_type": "execute_result"
    }
   ],
   "source": [
    "my_numpy_array.max()   # .max ile bu değerler arasından en büyük değeri istiyoruz."
   ]
  },
  {
   "cell_type": "code",
   "execution_count": 29,
   "id": "fb4ab62c-371e-45f9-bd44-b5990d7e6ec9",
   "metadata": {},
   "outputs": [
    {
     "data": {
      "text/plain": [
       "20"
      ]
     },
     "execution_count": 29,
     "metadata": {},
     "output_type": "execute_result"
    }
   ],
   "source": [
    "my_numpy_array.min()  # .min ile bu değerler arasından en küçük değeri istiyoruz."
   ]
  },
  {
   "cell_type": "code",
   "execution_count": 32,
   "id": "607abf70-dfad-4591-9fa8-804bbe872d5d",
   "metadata": {},
   "outputs": [
    {
     "data": {
      "text/plain": [
       "47.5"
      ]
     },
     "execution_count": 32,
     "metadata": {},
     "output_type": "execute_result"
    }
   ],
   "source": [
    "my_numpy_array.mean()   # .mean bu değerlerin ortalamasını alır."
   ]
  },
  {
   "cell_type": "code",
   "execution_count": 33,
   "id": "e583c794-66e0-437f-b7c5-4e9bb63f2867",
   "metadata": {},
   "outputs": [],
   "source": [
    "matrix_list = [[1,0,0],[0,1,0],[0,0,1],[0,0,0]]"
   ]
  },
  {
   "cell_type": "code",
   "execution_count": 34,
   "id": "1d37abbf-f2fc-4501-b46b-2b8b86fe21d4",
   "metadata": {},
   "outputs": [
    {
     "data": {
      "text/plain": [
       "list"
      ]
     },
     "execution_count": 34,
     "metadata": {},
     "output_type": "execute_result"
    }
   ],
   "source": [
    "type(matrix_list)"
   ]
  },
  {
   "cell_type": "code",
   "execution_count": 36,
   "id": "655811ae-a4f7-4b36-ba00-05d99e8b6ec9",
   "metadata": {},
   "outputs": [
    {
     "data": {
      "text/plain": [
       "1"
      ]
     },
     "execution_count": 36,
     "metadata": {},
     "output_type": "execute_result"
    }
   ],
   "source": [
    "matrix_list[0][0]"
   ]
  },
  {
   "cell_type": "code",
   "execution_count": 38,
   "id": "41a7e1dd-e143-40ae-b3ac-cb6179c93de4",
   "metadata": {},
   "outputs": [],
   "source": [
    "numpy_matrix_list = np.array(matrix_list)"
   ]
  },
  {
   "cell_type": "code",
   "execution_count": 39,
   "id": "fe62ef60-150f-4120-b8ec-833156aadbd9",
   "metadata": {},
   "outputs": [
    {
     "data": {
      "text/plain": [
       "array([[1, 0, 0],\n",
       "       [0, 1, 0],\n",
       "       [0, 0, 1],\n",
       "       [0, 0, 0]])"
      ]
     },
     "execution_count": 39,
     "metadata": {},
     "output_type": "execute_result"
    }
   ],
   "source": [
    "numpy_matrix_list"
   ]
  },
  {
   "cell_type": "code",
   "execution_count": 41,
   "id": "2045e8df-7fa8-4e3b-9a57-14739f95c292",
   "metadata": {},
   "outputs": [
    {
     "data": {
      "text/plain": [
       "1"
      ]
     },
     "execution_count": 41,
     "metadata": {},
     "output_type": "execute_result"
    }
   ],
   "source": [
    "numpy_matrix_list[0][0]"
   ]
  },
  {
   "cell_type": "code",
   "execution_count": 43,
   "id": "75fcdf63-c62a-49f7-a60f-fc37a6c82996",
   "metadata": {},
   "outputs": [
    {
     "data": {
      "text/plain": [
       "(4, 3)"
      ]
     },
     "execution_count": 43,
     "metadata": {},
     "output_type": "execute_result"
    }
   ],
   "source": [
    "numpy_matrix_list.shape # bu kod matrixin 4 row 3 column'dan oluştuğunu gösteriyor. "
   ]
  },
  {
   "cell_type": "code",
   "execution_count": 44,
   "id": "87bce914-19b9-4e3c-9518-0f7ede723423",
   "metadata": {},
   "outputs": [],
   "source": [
    "#arange"
   ]
  },
  {
   "cell_type": "code",
   "execution_count": 45,
   "id": "55d04b5e-8138-4e87-917b-433050f8904f",
   "metadata": {},
   "outputs": [
    {
     "data": {
      "text/plain": [
       "range(0, 10)"
      ]
     },
     "execution_count": 45,
     "metadata": {},
     "output_type": "execute_result"
    }
   ],
   "source": [
    "range(0,10)"
   ]
  },
  {
   "cell_type": "code",
   "execution_count": 53,
   "id": "93467cbd-560a-451d-a735-21e4dc858f76",
   "metadata": {},
   "outputs": [
    {
     "data": {
      "text/plain": [
       "[0, 1, 2, 3, 4, 5, 6, 7, 8, 9]"
      ]
     },
     "execution_count": 53,
     "metadata": {},
     "output_type": "execute_result"
    }
   ],
   "source": [
    "list(range(0,10))"
   ]
  },
  {
   "cell_type": "code",
   "execution_count": 50,
   "id": "3753fc8e-ecf6-47de-b1d6-8c73578f1c85",
   "metadata": {},
   "outputs": [
    {
     "data": {
      "text/plain": [
       "array([0, 1, 2, 3, 4, 5, 6, 7, 8, 9])"
      ]
     },
     "execution_count": 50,
     "metadata": {},
     "output_type": "execute_result"
    }
   ],
   "source": [
    "np.arange(0,10)   # arange = range'in numpy versiyonu"
   ]
  },
  {
   "cell_type": "code",
   "execution_count": 54,
   "id": "491dd13a-975a-4516-aedd-f2b82acb9250",
   "metadata": {},
   "outputs": [
    {
     "data": {
      "text/plain": [
       "array([ 0,  2,  4,  6,  8, 10, 12, 14, 16, 18, 20, 22, 24, 26, 28])"
      ]
     },
     "execution_count": 54,
     "metadata": {},
     "output_type": "execute_result"
    }
   ],
   "source": [
    "np.arange(0,30,2)  # bu örnekte 0'dan 30'a kadar ikişer ikişer gitmesini istedik."
   ]
  },
  {
   "cell_type": "code",
   "execution_count": 56,
   "id": "2e929c32-65c5-4685-9607-b7f23d87b998",
   "metadata": {},
   "outputs": [
    {
     "data": {
      "text/plain": [
       "array([0., 0., 0., 0., 0., 0., 0., 0., 0., 0.])"
      ]
     },
     "execution_count": 56,
     "metadata": {},
     "output_type": "execute_result"
    }
   ],
   "source": [
    "np.zeros(10)     #bazen numpy'da 0dan oluşan değerlere ihtiyaç duyulabiliyor. Bu komut parantezin içindeki sayı kadar 0 oluşturuyor."
   ]
  },
  {
   "cell_type": "code",
   "execution_count": 58,
   "id": "03e70304-ce16-49d5-bfb2-b8306b7e1030",
   "metadata": {},
   "outputs": [
    {
     "data": {
      "text/plain": [
       "array([[0., 0., 0., 0., 0., 0., 0., 0., 0., 0.],\n",
       "       [0., 0., 0., 0., 0., 0., 0., 0., 0., 0.],\n",
       "       [0., 0., 0., 0., 0., 0., 0., 0., 0., 0.],\n",
       "       [0., 0., 0., 0., 0., 0., 0., 0., 0., 0.],\n",
       "       [0., 0., 0., 0., 0., 0., 0., 0., 0., 0.],\n",
       "       [0., 0., 0., 0., 0., 0., 0., 0., 0., 0.],\n",
       "       [0., 0., 0., 0., 0., 0., 0., 0., 0., 0.],\n",
       "       [0., 0., 0., 0., 0., 0., 0., 0., 0., 0.],\n",
       "       [0., 0., 0., 0., 0., 0., 0., 0., 0., 0.],\n",
       "       [0., 0., 0., 0., 0., 0., 0., 0., 0., 0.]])"
      ]
     },
     "execution_count": 58,
     "metadata": {},
     "output_type": "execute_result"
    }
   ],
   "source": [
    "np.zeros((10,10)) #bu kod 10'a 10 her şeyi sıfır olan matrix oluşturuyor."
   ]
  },
  {
   "cell_type": "code",
   "execution_count": 60,
   "id": "c6f7446f-00ba-44a2-a443-67d77926cbd6",
   "metadata": {},
   "outputs": [
    {
     "data": {
      "text/plain": [
       "array([[1., 1., 1., 1., 1., 1., 1., 1., 1., 1.],\n",
       "       [1., 1., 1., 1., 1., 1., 1., 1., 1., 1.],\n",
       "       [1., 1., 1., 1., 1., 1., 1., 1., 1., 1.],\n",
       "       [1., 1., 1., 1., 1., 1., 1., 1., 1., 1.],\n",
       "       [1., 1., 1., 1., 1., 1., 1., 1., 1., 1.],\n",
       "       [1., 1., 1., 1., 1., 1., 1., 1., 1., 1.],\n",
       "       [1., 1., 1., 1., 1., 1., 1., 1., 1., 1.],\n",
       "       [1., 1., 1., 1., 1., 1., 1., 1., 1., 1.],\n",
       "       [1., 1., 1., 1., 1., 1., 1., 1., 1., 1.],\n",
       "       [1., 1., 1., 1., 1., 1., 1., 1., 1., 1.]])"
      ]
     },
     "execution_count": 60,
     "metadata": {},
     "output_type": "execute_result"
    }
   ],
   "source": [
    "np.ones((10,10)) #bir önceki örnekteki .zeros'un 1li versiyonu"
   ]
  },
  {
   "cell_type": "code",
   "execution_count": 61,
   "id": "df0870bf-0429-48d9-af61-dca1e3a3a10a",
   "metadata": {},
   "outputs": [],
   "source": [
    "#linspace"
   ]
  },
  {
   "cell_type": "code",
   "execution_count": 64,
   "id": "964e29e4-541c-498e-af02-e5c07d78be0f",
   "metadata": {},
   "outputs": [
    {
     "data": {
      "text/plain": [
       "array([ 0.        ,  0.1010101 ,  0.2020202 ,  0.3030303 ,  0.4040404 ,\n",
       "        0.50505051,  0.60606061,  0.70707071,  0.80808081,  0.90909091,\n",
       "        1.01010101,  1.11111111,  1.21212121,  1.31313131,  1.41414141,\n",
       "        1.51515152,  1.61616162,  1.71717172,  1.81818182,  1.91919192,\n",
       "        2.02020202,  2.12121212,  2.22222222,  2.32323232,  2.42424242,\n",
       "        2.52525253,  2.62626263,  2.72727273,  2.82828283,  2.92929293,\n",
       "        3.03030303,  3.13131313,  3.23232323,  3.33333333,  3.43434343,\n",
       "        3.53535354,  3.63636364,  3.73737374,  3.83838384,  3.93939394,\n",
       "        4.04040404,  4.14141414,  4.24242424,  4.34343434,  4.44444444,\n",
       "        4.54545455,  4.64646465,  4.74747475,  4.84848485,  4.94949495,\n",
       "        5.05050505,  5.15151515,  5.25252525,  5.35353535,  5.45454545,\n",
       "        5.55555556,  5.65656566,  5.75757576,  5.85858586,  5.95959596,\n",
       "        6.06060606,  6.16161616,  6.26262626,  6.36363636,  6.46464646,\n",
       "        6.56565657,  6.66666667,  6.76767677,  6.86868687,  6.96969697,\n",
       "        7.07070707,  7.17171717,  7.27272727,  7.37373737,  7.47474747,\n",
       "        7.57575758,  7.67676768,  7.77777778,  7.87878788,  7.97979798,\n",
       "        8.08080808,  8.18181818,  8.28282828,  8.38383838,  8.48484848,\n",
       "        8.58585859,  8.68686869,  8.78787879,  8.88888889,  8.98989899,\n",
       "        9.09090909,  9.19191919,  9.29292929,  9.39393939,  9.49494949,\n",
       "        9.5959596 ,  9.6969697 ,  9.7979798 ,  9.8989899 , 10.        ])"
      ]
     },
     "execution_count": 64,
     "metadata": {},
     "output_type": "execute_result"
    }
   ],
   "source": [
    "np.linspace(0,10,100)"
   ]
  },
  {
   "cell_type": "code",
   "execution_count": 66,
   "id": "f9d308bb-f655-4ac8-81f9-3a5ad3f339c1",
   "metadata": {},
   "outputs": [],
   "source": [
    "#random"
   ]
  },
  {
   "cell_type": "code",
   "execution_count": 70,
   "id": "3fd77d37-f677-4e19-b13b-0cb0f21a5ad6",
   "metadata": {},
   "outputs": [
    {
     "data": {
      "text/plain": [
       "array([9, 3, 5])"
      ]
     },
     "execution_count": 70,
     "metadata": {},
     "output_type": "execute_result"
    }
   ],
   "source": [
    "np.random.randint(1,10,3) #bu kod ile 1'den 10'a kadar rastgele bir değer istiyoruz.Parantezin sonunda 3 olduğu için 3 farklı değer veriyor."
   ]
  },
  {
   "cell_type": "code",
   "execution_count": 71,
   "id": "162111fe-838c-426b-9f09-fb2a66582f51",
   "metadata": {},
   "outputs": [
    {
     "data": {
      "text/plain": [
       "52"
      ]
     },
     "execution_count": 71,
     "metadata": {},
     "output_type": "execute_result"
    }
   ],
   "source": [
    "np.random.randint(1,100)"
   ]
  },
  {
   "cell_type": "code",
   "execution_count": 72,
   "id": "fc3802a5-f26e-43d9-873f-26efd3a707c8",
   "metadata": {},
   "outputs": [
    {
     "data": {
      "text/plain": [
       "array([33, 75,  1, 75, 91, 51, 55, 58, 49, 92])"
      ]
     },
     "execution_count": 72,
     "metadata": {},
     "output_type": "execute_result"
    }
   ],
   "source": [
    "np.random.randint(1,100,10)"
   ]
  },
  {
   "cell_type": "code",
   "execution_count": 73,
   "id": "ae7603d0-b04a-464e-8cca-9b28c34ec550",
   "metadata": {},
   "outputs": [],
   "source": [
    "#numpy arrays methods"
   ]
  },
  {
   "cell_type": "code",
   "execution_count": 74,
   "id": "4233bc6b-6614-482b-921f-af94b6ca229a",
   "metadata": {},
   "outputs": [],
   "source": [
    "my_numpy_list = np.arange(0,20)"
   ]
  },
  {
   "cell_type": "code",
   "execution_count": 75,
   "id": "c35ae32b-b5e6-4d04-b1b9-752a96bc6361",
   "metadata": {},
   "outputs": [
    {
     "data": {
      "text/plain": [
       "array([ 0,  1,  2,  3,  4,  5,  6,  7,  8,  9, 10, 11, 12, 13, 14, 15, 16,\n",
       "       17, 18, 19])"
      ]
     },
     "execution_count": 75,
     "metadata": {},
     "output_type": "execute_result"
    }
   ],
   "source": [
    "my_numpy_list"
   ]
  },
  {
   "cell_type": "code",
   "execution_count": 76,
   "id": "2d628615-1d06-49df-b5f8-70c33c2bc6db",
   "metadata": {},
   "outputs": [
    {
     "data": {
      "text/plain": [
       "4"
      ]
     },
     "execution_count": 76,
     "metadata": {},
     "output_type": "execute_result"
    }
   ],
   "source": [
    "my_numpy_list[4]"
   ]
  },
  {
   "cell_type": "code",
   "execution_count": 77,
   "id": "8ee109f6-5ce6-4765-ac3c-7c5d28a9c412",
   "metadata": {},
   "outputs": [
    {
     "data": {
      "text/plain": [
       "array([4, 5, 6, 7, 8])"
      ]
     },
     "execution_count": 77,
     "metadata": {},
     "output_type": "execute_result"
    }
   ],
   "source": [
    "my_numpy_list[4:9]"
   ]
  },
  {
   "cell_type": "code",
   "execution_count": 78,
   "id": "29153cf5-7302-46b6-a476-8ebf81e8bcd1",
   "metadata": {},
   "outputs": [
    {
     "data": {
      "text/plain": [
       "array([4, 6, 8])"
      ]
     },
     "execution_count": 78,
     "metadata": {},
     "output_type": "execute_result"
    }
   ],
   "source": [
    "my_numpy_list[4:9:2]"
   ]
  },
  {
   "cell_type": "code",
   "execution_count": 79,
   "id": "e5fa7a84-1556-4891-8e60-3264e8057f07",
   "metadata": {},
   "outputs": [],
   "source": [
    "my_list = list(range(0,20))"
   ]
  },
  {
   "cell_type": "code",
   "execution_count": 80,
   "id": "72213f6c-6fc7-4c27-9ebf-de7e38d2c106",
   "metadata": {},
   "outputs": [
    {
     "data": {
      "text/plain": [
       "[0, 1, 2, 3, 4, 5, 6, 7, 8, 9, 10, 11, 12, 13, 14, 15, 16, 17, 18, 19]"
      ]
     },
     "execution_count": 80,
     "metadata": {},
     "output_type": "execute_result"
    }
   ],
   "source": [
    "my_list"
   ]
  },
  {
   "cell_type": "code",
   "execution_count": 81,
   "id": "f67193ba-5899-4807-8a9d-cac54a798c3a",
   "metadata": {},
   "outputs": [
    {
     "data": {
      "text/plain": [
       "[4, 6, 8]"
      ]
     },
     "execution_count": 81,
     "metadata": {},
     "output_type": "execute_result"
    }
   ],
   "source": [
    "my_list[4:9:2]"
   ]
  },
  {
   "cell_type": "code",
   "execution_count": 84,
   "id": "2a1372d9-00c6-4e2f-8877-cdec64acc9b4",
   "metadata": {},
   "outputs": [],
   "source": [
    "#my_list[4:9] = -10  ###bu örnekte görüldüğü gibi listeler indexler arası değeri alıp başka bir değere eşitlemeyi desteklemiyor. Kod hata veriyor."
   ]
  },
  {
   "cell_type": "code",
   "execution_count": 87,
   "id": "a55a765e-1cbe-4188-af8c-884df49a784e",
   "metadata": {},
   "outputs": [],
   "source": [
    "my_numpy_list[4:9] = -10 #numpy'da ise bu işlemi yapabiliyoruz. 4 ve 9. bu örnekte index arasındaki tüm değerler -10'a eşitlendi."
   ]
  },
  {
   "cell_type": "code",
   "execution_count": 86,
   "id": "025e75c7-bde7-42fb-9de7-2495a6f7464e",
   "metadata": {},
   "outputs": [
    {
     "data": {
      "text/plain": [
       "array([  0,   1,   2,   3, -10, -10, -10, -10, -10,   9,  10,  11,  12,\n",
       "        13,  14,  15,  16,  17,  18,  19])"
      ]
     },
     "execution_count": 86,
     "metadata": {},
     "output_type": "execute_result"
    }
   ],
   "source": [
    "my_numpy_list"
   ]
  },
  {
   "cell_type": "code",
   "execution_count": 88,
   "id": "37611308-2ad9-432f-8519-1a1494c14bb5",
   "metadata": {},
   "outputs": [],
   "source": [
    "other_list = np.arange(0,15) "
   ]
  },
  {
   "cell_type": "code",
   "execution_count": 89,
   "id": "79c1be03-b346-4ca0-a999-7713fd15e00c",
   "metadata": {},
   "outputs": [
    {
     "data": {
      "text/plain": [
       "array([ 0,  1,  2,  3,  4,  5,  6,  7,  8,  9, 10, 11, 12, 13, 14])"
      ]
     },
     "execution_count": 89,
     "metadata": {},
     "output_type": "execute_result"
    }
   ],
   "source": [
    "other_list"
   ]
  },
  {
   "cell_type": "code",
   "execution_count": 90,
   "id": "11b9e101-e3de-4eff-adac-34412f962f53",
   "metadata": {},
   "outputs": [
    {
     "data": {
      "text/plain": [
       "array([4, 5, 6, 7, 8, 9])"
      ]
     },
     "execution_count": 90,
     "metadata": {},
     "output_type": "execute_result"
    }
   ],
   "source": [
    "other_list[4:10]"
   ]
  },
  {
   "cell_type": "code",
   "execution_count": 91,
   "id": "0ffac116-18fc-480e-aab6-9fd40f51491f",
   "metadata": {},
   "outputs": [],
   "source": [
    "slicing_list = other_list[4:10]"
   ]
  },
  {
   "cell_type": "code",
   "execution_count": 92,
   "id": "1fdf3c55-fb2f-4b54-b81a-d1f51d03576b",
   "metadata": {},
   "outputs": [
    {
     "data": {
      "text/plain": [
       "array([4, 5, 6, 7, 8, 9])"
      ]
     },
     "execution_count": 92,
     "metadata": {},
     "output_type": "execute_result"
    }
   ],
   "source": [
    "slicing_list"
   ]
  },
  {
   "cell_type": "code",
   "execution_count": 93,
   "id": "880ad3e6-dee7-42c9-a852-655feed44cc3",
   "metadata": {},
   "outputs": [
    {
     "data": {
      "text/plain": [
       "array([ 0,  1,  2,  3,  4,  5,  6,  7,  8,  9, 10, 11, 12, 13, 14])"
      ]
     },
     "execution_count": 93,
     "metadata": {},
     "output_type": "execute_result"
    }
   ],
   "source": [
    "other_list"
   ]
  },
  {
   "cell_type": "code",
   "execution_count": 94,
   "id": "cdd0a355-72c7-4041-869b-61386c33e3ff",
   "metadata": {},
   "outputs": [
    {
     "data": {
      "text/plain": [
       "4"
      ]
     },
     "execution_count": 94,
     "metadata": {},
     "output_type": "execute_result"
    }
   ],
   "source": [
    "slicing_list[0]"
   ]
  },
  {
   "cell_type": "code",
   "execution_count": 95,
   "id": "7d49e1f5-5d2d-4971-9851-fd20215c58d3",
   "metadata": {},
   "outputs": [],
   "source": [
    "slicing_list[:] = 100"
   ]
  },
  {
   "cell_type": "code",
   "execution_count": 96,
   "id": "fec4dd45-e763-4658-8735-bd48a7fdad72",
   "metadata": {},
   "outputs": [
    {
     "data": {
      "text/plain": [
       "array([100, 100, 100, 100, 100, 100])"
      ]
     },
     "execution_count": 96,
     "metadata": {},
     "output_type": "execute_result"
    }
   ],
   "source": [
    "slicing_list"
   ]
  },
  {
   "cell_type": "code",
   "execution_count": null,
   "id": "1ffd1e8d-cc5b-42c0-af20-e8fbb05e3f09",
   "metadata": {},
   "outputs": [],
   "source": [
    "other_list #biz slicing_list'i other listin bazı elemanlarını kullanarak tanımlayıp üzerinde değişiklikler yaptık. Normalde bu değişiklikler \n",
    "#other_list'i etkilemezdi. Ancak numpy'da ise slicing_list üzerinde yaptığımız değişiklikler other_list üzerindende yapıldı. Kısacası other_list'ide\n",
    "#düzenlemiş olduk."
   ]
  },
  {
   "cell_type": "code",
   "execution_count": 103,
   "id": "b6be2e49-2ef8-40fd-919f-ceed93fb2116",
   "metadata": {},
   "outputs": [
    {
     "data": {
      "text/plain": [
       "[0, 1, 2, 3, 4, 5, 6, 7, 8, 9, 10, 11, 12, 13, 14, 15, 16, 17, 18, 19]"
      ]
     },
     "execution_count": 103,
     "metadata": {},
     "output_type": "execute_result"
    }
   ],
   "source": [
    "my_list"
   ]
  },
  {
   "cell_type": "code",
   "execution_count": 105,
   "id": "3a2f428b-686d-4140-bb83-5b5e33fa3533",
   "metadata": {},
   "outputs": [],
   "source": [
    "slicing_my_list = my_list[4:9]"
   ]
  },
  {
   "cell_type": "code",
   "execution_count": 106,
   "id": "23b8a3da-0d95-4671-8051-76652a8e0e3d",
   "metadata": {},
   "outputs": [
    {
     "data": {
      "text/plain": [
       "[4, 5, 6, 7, 8]"
      ]
     },
     "execution_count": 106,
     "metadata": {},
     "output_type": "execute_result"
    }
   ],
   "source": [
    "slicing_my_list"
   ]
  },
  {
   "cell_type": "code",
   "execution_count": 108,
   "id": "d088e62f-3f32-40e7-924d-b2d2ca03f0ee",
   "metadata": {},
   "outputs": [],
   "source": [
    "slicing_my_list[0] = -100"
   ]
  },
  {
   "cell_type": "code",
   "execution_count": 109,
   "id": "0dca098b-ca09-4a38-92e9-9a07aaf76f3c",
   "metadata": {},
   "outputs": [],
   "source": [
    "slicing_my_list[1] = -100"
   ]
  },
  {
   "cell_type": "code",
   "execution_count": 110,
   "id": "1fc6e11f-2cd8-4ca7-a89d-509874149db7",
   "metadata": {},
   "outputs": [
    {
     "data": {
      "text/plain": [
       "[-100, -100, 6, 7, 8]"
      ]
     },
     "execution_count": 110,
     "metadata": {},
     "output_type": "execute_result"
    }
   ],
   "source": [
    "slicing_my_list"
   ]
  },
  {
   "cell_type": "code",
   "execution_count": 113,
   "id": "a8805980-cc96-4390-a77b-6127874f0016",
   "metadata": {},
   "outputs": [
    {
     "data": {
      "text/plain": [
       "[0, 1, 2, 3, 4, 5, 6, 7, 8, 9, 10, 11, 12, 13, 14, 15, 16, 17, 18, 19]"
      ]
     },
     "execution_count": 113,
     "metadata": {},
     "output_type": "execute_result"
    }
   ],
   "source": [
    "my_list #görüldüğü gibi listeler üzerinde çalıştığımızda herhangi bir şey değişmemiş. slicing_list üzerindeki değişiklikler sadece kendisini etkilemiş."
   ]
  },
  {
   "cell_type": "code",
   "execution_count": 114,
   "id": "38df39ff-cea0-443d-b33d-380aa2ff6808",
   "metadata": {},
   "outputs": [],
   "source": [
    "numpy_list_3 = np.arange(0,20)"
   ]
  },
  {
   "cell_type": "code",
   "execution_count": 115,
   "id": "9659cf93-eb8f-422f-8093-8870574d398b",
   "metadata": {},
   "outputs": [
    {
     "data": {
      "text/plain": [
       "array([ 0,  1,  2,  3,  4,  5,  6,  7,  8,  9, 10, 11, 12, 13, 14, 15, 16,\n",
       "       17, 18, 19])"
      ]
     },
     "execution_count": 115,
     "metadata": {},
     "output_type": "execute_result"
    }
   ],
   "source": [
    "numpy_list_3"
   ]
  },
  {
   "cell_type": "code",
   "execution_count": 128,
   "id": "646e774a-fe8c-468a-9752-4eb095f87611",
   "metadata": {},
   "outputs": [],
   "source": [
    "numpy_list_3_copy = numpy_list_3.copy() #burada numpy_list_3'ün kopyasını alıyoruz. Böylelikle slicing_3 üzerinde yapılan değişiklikler sadece copy'i\n",
    "#etkileyecek asıl numpy_list_3 üzerinde bir değişiklik olmayacak. "
   ]
  },
  {
   "cell_type": "code",
   "execution_count": 118,
   "id": "81567d3a-4c5b-4acb-a891-ec0c7ac3c0e7",
   "metadata": {},
   "outputs": [
    {
     "data": {
      "text/plain": [
       "array([ 0,  1,  2,  3,  4,  5,  6,  7,  8,  9, 10, 11, 12, 13, 14, 15, 16,\n",
       "       17, 18, 19])"
      ]
     },
     "execution_count": 118,
     "metadata": {},
     "output_type": "execute_result"
    }
   ],
   "source": [
    "numpy_list_3_copy"
   ]
  },
  {
   "cell_type": "code",
   "execution_count": 120,
   "id": "0123f032-8cbd-44f6-825c-6cc89d01331e",
   "metadata": {},
   "outputs": [],
   "source": [
    "slicing_3 = numpy_list_3_copy[4:9]"
   ]
  },
  {
   "cell_type": "code",
   "execution_count": 121,
   "id": "a06ffd92-45ea-40bd-94c7-a764650f7c01",
   "metadata": {},
   "outputs": [],
   "source": [
    "slicing_3[:] = -100"
   ]
  },
  {
   "cell_type": "code",
   "execution_count": 122,
   "id": "5fc3bc1d-8513-42dd-ab15-6e25dda23136",
   "metadata": {},
   "outputs": [
    {
     "data": {
      "text/plain": [
       "array([-100, -100, -100, -100, -100])"
      ]
     },
     "execution_count": 122,
     "metadata": {},
     "output_type": "execute_result"
    }
   ],
   "source": [
    "slicing_3"
   ]
  },
  {
   "cell_type": "code",
   "execution_count": 123,
   "id": "830b9d26-4caf-45c5-854c-4b8f279ae37d",
   "metadata": {},
   "outputs": [
    {
     "data": {
      "text/plain": [
       "array([   0,    1,    2,    3, -100, -100, -100, -100, -100,    9,   10,\n",
       "         11,   12,   13,   14,   15,   16,   17,   18,   19])"
      ]
     },
     "execution_count": 123,
     "metadata": {},
     "output_type": "execute_result"
    }
   ],
   "source": [
    "numpy_list_3_copy"
   ]
  },
  {
   "cell_type": "code",
   "execution_count": 124,
   "id": "0493bc27-3267-44e8-8a90-f79ab469734f",
   "metadata": {},
   "outputs": [
    {
     "data": {
      "text/plain": [
       "array([ 0,  1,  2,  3,  4,  5,  6,  7,  8,  9, 10, 11, 12, 13, 14, 15, 16,\n",
       "       17, 18, 19])"
      ]
     },
     "execution_count": 124,
     "metadata": {},
     "output_type": "execute_result"
    }
   ],
   "source": [
    "numpy_list_3"
   ]
  },
  {
   "cell_type": "code",
   "execution_count": 129,
   "id": "5ef5cc8b-f0b4-4da8-8293-a5d15c63e095",
   "metadata": {},
   "outputs": [],
   "source": [
    "# numpy operations with numpy arrays"
   ]
  },
  {
   "cell_type": "code",
   "execution_count": 131,
   "id": "454cef0c-0491-4602-92ec-34b1c90bafe7",
   "metadata": {},
   "outputs": [],
   "source": [
    "new_array = np.random.randint(1,150,25) # 1 den 150'ye kadar 25 tane rastgele sayı vericek."
   ]
  },
  {
   "cell_type": "code",
   "execution_count": 132,
   "id": "d1c92b47-ca2b-41d6-8544-08ce09702e83",
   "metadata": {},
   "outputs": [
    {
     "data": {
      "text/plain": [
       "array([ 97,  54,  29,  95,  26,  25, 101,  46, 115,  13, 108, 112, 139,\n",
       "        28, 123, 141,  96, 108, 118,  73, 116,  96, 114, 148, 141])"
      ]
     },
     "execution_count": 132,
     "metadata": {},
     "output_type": "execute_result"
    }
   ],
   "source": [
    "new_array"
   ]
  },
  {
   "cell_type": "code",
   "execution_count": 133,
   "id": "bc4c3844-a4e3-4562-a3e1-e254efec8069",
   "metadata": {},
   "outputs": [
    {
     "data": {
      "text/plain": [
       "array([ True,  True, False,  True, False, False,  True, False,  True,\n",
       "       False,  True,  True,  True, False,  True,  True,  True,  True,\n",
       "        True,  True,  True,  True,  True,  True,  True])"
      ]
     },
     "execution_count": 133,
     "metadata": {},
     "output_type": "execute_result"
    }
   ],
   "source": [
    "new_array > 50 #bu kodla değerler arasından 50'den büyük olanları tespit ediyorsun."
   ]
  },
  {
   "cell_type": "code",
   "execution_count": 134,
   "id": "6dbf6593-4740-40bb-b9a4-b58f5ecdb5ca",
   "metadata": {},
   "outputs": [],
   "source": [
    "result_array = new_array > 50 "
   ]
  },
  {
   "cell_type": "code",
   "execution_count": 137,
   "id": "dde42fb5-1999-4bc1-a4b0-c98b85a1bec5",
   "metadata": {},
   "outputs": [
    {
     "data": {
      "text/plain": [
       "array([ True,  True, False,  True, False, False,  True, False,  True,\n",
       "       False,  True,  True,  True, False,  True,  True,  True,  True,\n",
       "        True,  True,  True,  True,  True,  True,  True])"
      ]
     },
     "execution_count": 137,
     "metadata": {},
     "output_type": "execute_result"
    }
   ],
   "source": [
    "result_array"
   ]
  },
  {
   "cell_type": "code",
   "execution_count": 138,
   "id": "593e7c34-7029-48e8-9f7f-955ac3a826ca",
   "metadata": {},
   "outputs": [
    {
     "data": {
      "text/plain": [
       "array([ 97,  54,  29,  95,  26,  25, 101,  46, 115,  13, 108, 112, 139,\n",
       "        28, 123, 141,  96, 108, 118,  73, 116,  96, 114, 148, 141])"
      ]
     },
     "execution_count": 138,
     "metadata": {},
     "output_type": "execute_result"
    }
   ],
   "source": [
    "new_array"
   ]
  },
  {
   "cell_type": "code",
   "execution_count": 139,
   "id": "b8edbb3e-e1e0-42ad-ab7c-9b39a162b322",
   "metadata": {},
   "outputs": [
    {
     "data": {
      "text/plain": [
       "array([ 97,  54,  95, 101, 115, 108, 112, 139, 123, 141,  96, 108, 118,\n",
       "        73, 116,  96, 114, 148, 141])"
      ]
     },
     "execution_count": 139,
     "metadata": {},
     "output_type": "execute_result"
    }
   ],
   "source": [
    "new_array[result_array]"
   ]
  },
  {
   "cell_type": "code",
   "execution_count": 140,
   "id": "308b95e7-2ba4-4124-8659-be1476c544e3",
   "metadata": {},
   "outputs": [],
   "source": [
    "last_array = np.arange(0,30)"
   ]
  },
  {
   "cell_type": "code",
   "execution_count": 141,
   "id": "45d80152-7aef-4274-af2b-a0e1d4fb7170",
   "metadata": {},
   "outputs": [
    {
     "data": {
      "text/plain": [
       "array([ 0,  1,  2,  3,  4,  5,  6,  7,  8,  9, 10, 11, 12, 13, 14, 15, 16,\n",
       "       17, 18, 19, 20, 21, 22, 23, 24, 25, 26, 27, 28, 29])"
      ]
     },
     "execution_count": 141,
     "metadata": {},
     "output_type": "execute_result"
    }
   ],
   "source": [
    "last_array"
   ]
  },
  {
   "cell_type": "code",
   "execution_count": 143,
   "id": "a2b0692a-508a-4668-bfcb-8b2cca77942f",
   "metadata": {},
   "outputs": [
    {
     "data": {
      "text/plain": [
       "array([ 0,  2,  4,  6,  8, 10, 12, 14, 16, 18, 20, 22, 24, 26, 28, 30, 32,\n",
       "       34, 36, 38, 40, 42, 44, 46, 48, 50, 52, 54, 56, 58])"
      ]
     },
     "execution_count": 143,
     "metadata": {},
     "output_type": "execute_result"
    }
   ],
   "source": [
    "last_array + last_array #normalde yan yana yazardı ama numpy kütüphanesinde gerçekten topluyor."
   ]
  },
  {
   "cell_type": "code",
   "execution_count": 146,
   "id": "188561b7-afae-4933-806b-2aa2f68f6033",
   "metadata": {},
   "outputs": [
    {
     "data": {
      "text/plain": [
       "array([  0,   1,   4,   9,  16,  25,  36,  49,  64,  81, 100, 121, 144,\n",
       "       169, 196, 225, 256, 289, 324, 361, 400, 441, 484, 529, 576, 625,\n",
       "       676, 729, 784, 841])"
      ]
     },
     "execution_count": 146,
     "metadata": {},
     "output_type": "execute_result"
    }
   ],
   "source": [
    "last_array * last_array #buradada gerçekten çarptı"
   ]
  },
  {
   "cell_type": "code",
   "execution_count": 147,
   "id": "954ec66a-d39c-4776-a745-2a33d6056748",
   "metadata": {},
   "outputs": [
    {
     "data": {
      "text/plain": [
       "array([0, 0, 0, 0, 0, 0, 0, 0, 0, 0, 0, 0, 0, 0, 0, 0, 0, 0, 0, 0, 0, 0,\n",
       "       0, 0, 0, 0, 0, 0, 0, 0])"
      ]
     },
     "execution_count": 147,
     "metadata": {},
     "output_type": "execute_result"
    }
   ],
   "source": [
    "last_array - last_array"
   ]
  },
  {
   "cell_type": "code",
   "execution_count": 158,
   "id": "a9e10cf5-46e6-45b9-9042-5a30330252bf",
   "metadata": {},
   "outputs": [
    {
     "name": "stderr",
     "output_type": "stream",
     "text": [
      "C:\\Users\\ahmed\\AppData\\Local\\Temp\\ipykernel_4708\\294271750.py:1: RuntimeWarning: invalid value encountered in divide\n",
      "  last_array / last_array # ilk işlem 0/0 olduğu için hata veriyor ama sonrasındaki işlemleri yerine getiriyor.\n"
     ]
    },
    {
     "data": {
      "text/plain": [
       "array([nan,  1.,  1.,  1.,  1.,  1.,  1.,  1.,  1.,  1.,  1.,  1.,  1.,\n",
       "        1.,  1.,  1.,  1.,  1.,  1.,  1.,  1.,  1.,  1.,  1.,  1.,  1.,\n",
       "        1.,  1.,  1.,  1.])"
      ]
     },
     "execution_count": 158,
     "metadata": {},
     "output_type": "execute_result"
    }
   ],
   "source": [
    "last_array / last_array # ilk işlem 0/0 olduğu için hata veriyor ama sonrasındaki işlemleri yerine getiriyor."
   ]
  },
  {
   "cell_type": "code",
   "execution_count": 149,
   "id": "c7064546-b90f-4703-8f2d-58d790fe5ab5",
   "metadata": {},
   "outputs": [
    {
     "data": {
      "text/plain": [
       "29"
      ]
     },
     "execution_count": 149,
     "metadata": {},
     "output_type": "execute_result"
    }
   ],
   "source": [
    "last_array.max()"
   ]
  },
  {
   "cell_type": "code",
   "execution_count": 150,
   "id": "7f4dfba5-b881-4a28-a7e2-c8723cebe0fd",
   "metadata": {},
   "outputs": [
    {
     "data": {
      "text/plain": [
       "array([ 0,  1,  2,  3,  4,  5,  6,  7,  8,  9, 10, 11, 12, 13, 14, 15, 16,\n",
       "       17, 18, 19, 20, 21, 22, 23, 24, 25, 26, 27, 28, 29])"
      ]
     },
     "execution_count": 150,
     "metadata": {},
     "output_type": "execute_result"
    }
   ],
   "source": [
    "last_array"
   ]
  },
  {
   "cell_type": "code",
   "execution_count": 152,
   "id": "e1bfa702-5c1d-431c-b46e-00916ae725ae",
   "metadata": {},
   "outputs": [
    {
     "data": {
      "text/plain": [
       "29"
      ]
     },
     "execution_count": 152,
     "metadata": {},
     "output_type": "execute_result"
    }
   ],
   "source": [
    "np.max(last_array)"
   ]
  },
  {
   "cell_type": "code",
   "execution_count": 153,
   "id": "8891fcfc-959f-49d6-8446-4d660fad3eb4",
   "metadata": {},
   "outputs": [
    {
     "data": {
      "text/plain": [
       "14.5"
      ]
     },
     "execution_count": 153,
     "metadata": {},
     "output_type": "execute_result"
    }
   ],
   "source": [
    "np.mean(last_array)"
   ]
  },
  {
   "cell_type": "code",
   "execution_count": 155,
   "id": "969865fb-4cf1-4d2e-a2b5-4cb49f9c7501",
   "metadata": {},
   "outputs": [
    {
     "data": {
      "text/plain": [
       "array([0.        , 1.        , 1.41421356, 1.73205081, 2.        ,\n",
       "       2.23606798, 2.44948974, 2.64575131, 2.82842712, 3.        ,\n",
       "       3.16227766, 3.31662479, 3.46410162, 3.60555128, 3.74165739,\n",
       "       3.87298335, 4.        , 4.12310563, 4.24264069, 4.35889894,\n",
       "       4.47213595, 4.58257569, 4.69041576, 4.79583152, 4.89897949,\n",
       "       5.        , 5.09901951, 5.19615242, 5.29150262, 5.38516481])"
      ]
     },
     "execution_count": 155,
     "metadata": {},
     "output_type": "execute_result"
    }
   ],
   "source": [
    "np.sqrt(last_array) # .sqrt = karekökünü alma işlemi."
   ]
  },
  {
   "cell_type": "code",
   "execution_count": null,
   "id": "b0ac6af4-9325-461c-b7c1-7d37ba05d053",
   "metadata": {},
   "outputs": [],
   "source": []
  }
 ],
 "metadata": {
  "kernelspec": {
   "display_name": "Python 3 (ipykernel)",
   "language": "python",
   "name": "python3"
  },
  "language_info": {
   "codemirror_mode": {
    "name": "ipython",
    "version": 3
   },
   "file_extension": ".py",
   "mimetype": "text/x-python",
   "name": "python",
   "nbconvert_exporter": "python",
   "pygments_lexer": "ipython3",
   "version": "3.11.7"
  }
 },
 "nbformat": 4,
 "nbformat_minor": 5
}
